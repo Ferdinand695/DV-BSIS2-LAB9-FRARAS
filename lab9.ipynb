{
  "nbformat": 4,
  "nbformat_minor": 0,
  "metadata": {
    "colab": {
      "provenance": [],
      "authorship_tag": "ABX9TyOjT/reRJFnMVBcOiSHpD5c",
      "include_colab_link": true
    },
    "kernelspec": {
      "name": "python3",
      "display_name": "Python 3"
    },
    "language_info": {
      "name": "python"
    }
  },
  "cells": [
    {
      "cell_type": "markdown",
      "metadata": {
        "id": "view-in-github",
        "colab_type": "text"
      },
      "source": [
        "<a href=\"https://colab.research.google.com/github/Ferdinand695/DV-BSIS2-LAB9-FRARAS/blob/main/lab9.ipynb\" target=\"_parent\"><img src=\"https://colab.research.google.com/assets/colab-badge.svg\" alt=\"Open In Colab\"/></a>"
      ]
    },
    {
      "cell_type": "code",
      "execution_count": null,
      "metadata": {
        "colab": {
          "base_uri": "https://localhost:8080/"
        },
        "id": "Ck8V57QBFAgs",
        "outputId": "e8d96e73-500e-4e66-892b-e84956b9dbbf"
      },
      "outputs": [
        {
          "output_type": "stream",
          "name": "stdout",
          "text": [
            "()\n",
            "(3, 7, 4, 2)\n",
            "<class 'str'>\n",
            "3\n",
            "2\n",
            "(3, 7)\n",
            "(3, 7, 4)\n",
            "3\n",
            "7\n",
            "4\n",
            "2\n",
            "0 lyka\n",
            "1 eric\n",
            "2 fatima\n",
            "3 rhodora\n"
          ]
        }
      ],
      "source": [
        "\n",
        "emptyTuple=()\n",
        "print(emptyTuple)\n",
        "z=(3,7,4,2,)\n",
        "print(z)\n",
        "tup1=('ferdinand',)\n",
        "tup2='ferdinand',\n",
        "notTuple=('ferdinand')\n",
        "print(type(notTuple))\n",
        "z=(3,7,4,2)\n",
        "print(z[0])\n",
        "z=(3,7,4,2)\n",
        "z=(3,7,4,2)\n",
        "print(z[-1])\n",
        "print(z[0:2])\n",
        "z=(3,7,4,2)\n",
        "print(z[-4:-1])\n",
        "a,b,c,d=(3,7,4,2)\n",
        "print(a)\n",
        "print(b)\n",
        "print(c)\n",
        "print(d)\n",
        "friends=('lyka','eric','fatima','rhodora')\n",
        "for index, friends in enumerate(friends):\n",
        "   print(index,friends)"
      ]
    }
  ]
}